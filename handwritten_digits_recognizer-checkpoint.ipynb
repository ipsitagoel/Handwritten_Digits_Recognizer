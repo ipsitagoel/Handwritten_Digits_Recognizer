{
 "cells": [
  {
   "cell_type": "code",
   "execution_count": 21,
   "metadata": {},
   "outputs": [],
   "source": [
    "import pandas\n",
    "import numpy\n",
    "from matplotlib import pyplot"
   ]
  },
  {
   "cell_type": "code",
   "execution_count": 22,
   "metadata": {},
   "outputs": [
    {
     "name": "stdout",
     "output_type": "stream",
     "text": [
      "(42000, 785)\n",
      "(42000, 785)\n"
     ]
    }
   ],
   "source": [
    "dataframe = pandas.read_csv('./train.csv')\n",
    "print dataframe.shape\n",
    "data_train = dataframe.values\n",
    "print data_train.shape"
   ]
  },
  {
   "cell_type": "code",
   "execution_count": 23,
   "metadata": {},
   "outputs": [
    {
     "name": "stdout",
     "output_type": "stream",
     "text": [
      "(42000,)\n",
      "(42000,)\n",
      "5\n"
     ]
    },
    {
     "data": {
      "image/png": "[encoded data removed]",
      "text/plain": [
       "<Figure size 432x288 with 1 Axes>"
      ]
     },
     "metadata": {
      "needs_background": "light"
     },
     "output_type": "display_data"
    }
   ],
   "source": [
    "y_train = data_train[:, 0]\n",
    "x_train = data_train[:, 1:]\n",
    "print y_train.shape\n",
    "print y_train.shape\n",
    "\n",
    "pyplot.figure(0)\n",
    "\n",
    "index_train = 1904\n",
    "\n",
    "print y_train[index_train]\n",
    "\n",
    "pyplot.imshow(x_train[index_train].reshape((28,28)), cmap='gray')\n",
    "pyplot.show()"
   ]
  },
  {
   "cell_type": "code",
   "execution_count": 24,
   "metadata": {},
   "outputs": [],
   "source": [
    "def distance(x1, x2):\n",
    "    return numpy.sqrt(((x1 - x2)**2).sum())\n",
    "\n",
    "def knn_algo(x_train, x, y_train, k=5):\n",
    "    val = []\n",
    "    for i in range(x_train.shape[0]):\n",
    "        v = [distance(x, x_train[i, :]), y_train[i]]\n",
    "        val.append(v)\n",
    "        \n",
    "    sort_val = sorted(val, key=lambda x: x[0])\n",
    "    predicted_arr = numpy.asarray(sort_val[:k])\n",
    "    predicted_arr = numpy.unique(predicted_arr[:, 1], return_counts = True)\n",
    "    index_largest = predicted_arr[1].argmax()\n",
    "    \n",
    "    return predicted_arr, predicted_arr[0][index_largest]"
   ]
  },
  {
   "cell_type": "code",
   "execution_count": 25,
   "metadata": {},
   "outputs": [
    {
     "name": "stdout",
     "output_type": "stream",
     "text": [
      "((array([6.]), array([7])), 6.0)\n",
      "6\n"
     ]
    },
    {
     "data": {
      "image/png": "[encoded data removed]",
      "text/plain": [
       "<Figure size 432x288 with 1 Axes>"
      ]
     },
     "metadata": {
      "needs_background": "light"
     },
     "output_type": "display_data"
    }
   ],
   "source": [
    "idq = int(numpy.random.random()*x_train.shape[0])\n",
    "q = x_train[idq]\n",
    "\n",
    "\n",
    "res = knn_algo(x_train[:10000], q, y_train[:10000], k=7)\n",
    "print res\n",
    "\n",
    "print y_train[idq]\n",
    "\n",
    "pyplot.figure(0)\n",
    "pyplot.imshow(q.reshape((28, 28)), cmap='gray')\n",
    "pyplot.show()"
   ]
  },
  {
   "cell_type": "code",
   "execution_count": null,
   "metadata": {},
   "outputs": [],
   "source": []
  }
 ],
 "metadata": {
  "kernelspec": {
   "display_name": "Python 2",
   "language": "python",
   "name": "python2"
  },
  "language_info": {
   "codemirror_mode": {
    "name": "ipython",
    "version": 2
   },
   "file_extension": ".py",
   "mimetype": "text/x-python",
   "name": "python",
   "nbconvert_exporter": "python",
   "pygments_lexer": "ipython2",
   "version": "2.7.18"
  }
 },
 "nbformat": 4,
 "nbformat_minor": 2
}
